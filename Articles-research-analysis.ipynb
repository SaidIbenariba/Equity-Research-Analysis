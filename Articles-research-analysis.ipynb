{
 "cells": [
  {
   "cell_type": "code",
   "execution_count": 5,
   "id": "1d8cd09b-33d4-44ac-b556-d2461bb58786",
   "metadata": {},
   "outputs": [],
   "source": [
    "from langchain.document_loaders import TextLoader"
   ]
  },
  {
   "cell_type": "code",
   "execution_count": 7,
   "id": "e34dbb55-1e85-40ef-ad5c-615ebb5fa921",
   "metadata": {},
   "outputs": [],
   "source": [
    "loader = TextLoader(\"reuters-news-tanger-med.txt\") \n",
    "data = loader.load() "
   ]
  },
  {
   "cell_type": "code",
   "execution_count": 12,
   "id": "d2652219-da4c-4ebb-ae2e-2ac76551a290",
   "metadata": {},
   "outputs": [
    {
     "data": {
      "text/plain": [
       "{'source': 'reuters-news-tanger-med.txt'}"
      ]
     },
     "execution_count": 12,
     "metadata": {},
     "output_type": "execute_result"
    }
   ],
   "source": [
    "data[0].page_content \n",
    "data[0].metadata"
   ]
  },
  {
   "cell_type": "code",
   "execution_count": 13,
   "id": "fd2bb55f-c57f-487c-8915-5ea9bcf701d8",
   "metadata": {},
   "outputs": [],
   "source": [
    "from langchain.document_loaders import UnstructuredURLLoader "
   ]
  },
  {
   "cell_type": "code",
   "id": "9174fca1-813c-4670-beb2-73fc16608be5",
   "metadata": {
    "ExecuteTime": {
     "end_time": "2025-02-25T13:51:52.628575Z",
     "start_time": "2025-02-25T13:51:52.525619Z"
    }
   },
   "source": [
    "# loader = UnstructuredURLLoader(urls = [\n",
    "#     \"https://www.fitchratings.com/research/fund-asset-managers/fitch-affirms-cdg-capital-gestion-national-imq-rating-at-excellent-mar-outlook-stable-10-07-2024\" \n",
    "#     \"https://www.reuters.com/business/moroccos-tanger-med-port-expects-exceed-nominal-container-capacity-2024-06-10/\"\n",
    "# ])\n",
    "\n",
    "text = \"\"\"Don’t want to read over 3,000 words on how to find your first freelance web design clients? Listen to the podcast OR watch the The first time I tried getting potential freelance web design clients was not pretty.\n",
    "\n",
    "I had just finished the very first site I had ever done. It was for a friend of mine who is a fitness coach.\n",
    "\n",
    "My strategy was pretty simple:\n",
    "\n",
    "Google fitness coaches/gyms located within a 30-mile radius of me\n",
    "See if their site needed help. After all, I didn’t want to pitch them a better site if the one they had was better than what I could give them ?\n",
    "Give them a phone call and sell them my services\n",
    "Wanna know how many clients I got from my efforts?\n",
    "\n",
    "Zero…nothing, not one.\n",
    "\n",
    "Instead, I got some very agitated trainers and gym owners that looked at me as the equivalent of a call center salesman willing to say anything to coerce them to pull out their credit card.\n",
    "\n",
    "I wasn’t by the way.\n",
    "\n",
    "Finding Freelance Web Design Clients is Hard at First\n",
    "Unfortunately, I know a lot of freelancers with similar experiences when they first begin trying to find freelance web design clients.\n",
    "\n",
    "They start out with such optimism and gusto. They’re willing to bang down doors if they have to.\n",
    "\n",
    "But, 20 rejections later and it starts to sting a little bit.\n",
    "\n",
    "You start to wonder if you’re made for freelancing or if you’re good enough to actually get paid for the work you do.\n",
    "\n",
    "If you’re in that place let me reassure you, friend, you’re not alone. AND, let me follow it up with an emphatic YOU CAN DO THIS.\n",
    "\n",
    "Getting those first few freelance web design clients is not easy.\n",
    "\n",
    "But, there are some things you can do to start out on the right foot, not clueless like I was.\n",
    "\n",
    "Here is what I learned from those first painful attempts that will make you a pro at finding freelance web design clients even if you’re new to the game.\n",
    "\n",
    "How to Get Freelance Web Design Clients When You’re Starting from Scratch\n",
    "1. Get the Word Out\n",
    "Some of the best advice about finding a job was something a mentor of mine told me in high school.\n",
    "\n",
    "When you’re looking for work you don’t just put your resume out there and hope something happens. You tell everyone you know that you’re looking for a job and ask them if they’ve heard of any opportunities.\n",
    "\n",
    "The same is true for freelancing.\n",
    "\n",
    "And, I’m not just talking about changing your job title on Facebook.\n",
    "\n",
    "I’m talking about calling people up and letting them know you’re looking for freelance web design clients. Or shooting them a text message asking them if they know anyone that might need your help.\n",
    "\n",
    "Right now, you might be thinking that doing this will annoy everyone you know and leave you friendless.\n",
    "\n",
    "But, that’s just not true.\n",
    "\n",
    "Flip the script. How would you feel if you knew someone that was looking for work? You’d probably be more than happy to help them if you could.\n",
    "\n",
    "NOW, if you keep annoying the same people over and over again, yes, it’s only a matter of time before people stop responding to you altogether.\n",
    "\n",
    "So, mention it once and move on.\n",
    "\n",
    "If they remember, great. If they don’t, that’s fine too.\n",
    "\n",
    "Don’t get angry if they aren’t able to help you out. They have lives too and might have a ton going on. Or they genuinely might not know any potential freelance web design clients to give you.\n",
    "\n",
    "So, don’t get offended if it doesn’t work out BUT don’t let that keep you from telling people you’re looking for freelance web design clients.\n",
    "\n",
    "2. Start with People You Know\n",
    "It never hurts to ask the people closest to you if they need a website. This is what I tell everyone just getting started.\n",
    "\n",
    "In fact, the first 5 freelance web design clients I got were all from people I’d known for a while. In some cases all my life.\n",
    "\n",
    "Everyone and their mom needs a website. In my case, everyone and their mom’s friend needed one.\n",
    "\n",
    "You won’t have to think too hard before you come up with a few folks that might be willing to give you a shot.\n",
    "\n",
    "So, make a list.\n",
    "\n",
    "Start with the people you know that own a business. It could be a brick-and-mortar store or online service.\n",
    "\n",
    "Does your friend’s mom have a cleaning business?\n",
    "\n",
    "Do you know someone that’s a realtor?\n",
    "\n",
    "What about your church or kid’s school?\n",
    "\n",
    "Most people know they need to update their website but it is at the bottom of the priority list below things that have a more urgent need.\n",
    "\n",
    "You’ll be surprised how many times you hear, “You know I was just thinking the other day it was time to refresh the ole site.”\"\"\"\n",
    "\n"
   ],
   "outputs": [],
   "execution_count": 1
  },
  {
   "cell_type": "code",
   "id": "d17b791a-8ea8-4057-8335-7aea7e527567",
   "metadata": {
    "jupyter": {
     "is_executing": true
    },
    "ExecuteTime": {
     "start_time": "2025-02-25T13:52:22.620834Z"
    }
   },
   "source": [
    "from langchain.text_splitter import CharacterTextSplitter, RecursiveCharacterTextSplitter\n",
    "\n",
    "splitter = RecursiveCharacterTextSplitter(\n",
    "        separators=[\"\\n\",\".\",\"?\"],\n",
    "        chunk_size=300,\n",
    "        chunk_overlap=0\n",
    ")\n",
    "chunks = splitter.split_text(text)\n",
    "for chunk in chunks : \n",
    "    print(len(chunk))"
   ],
   "outputs": [],
   "execution_count": null
  }
 ],
 "metadata": {
  "kernelspec": {
   "display_name": "Python 3 (ipykernel)",
   "language": "python",
   "name": "python3"
  },
  "language_info": {
   "codemirror_mode": {
    "name": "ipython",
    "version": 3
   },
   "file_extension": ".py",
   "mimetype": "text/x-python",
   "name": "python",
   "nbconvert_exporter": "python",
   "pygments_lexer": "ipython3",
   "version": "3.13.2"
  }
 },
 "nbformat": 4,
 "nbformat_minor": 5
}
